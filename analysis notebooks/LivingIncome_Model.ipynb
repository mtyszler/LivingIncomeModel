{
 "cells": [
  {
   "cell_type": "markdown",
   "metadata": {},
   "source": [
    "# Living Income Analysis: Machine Learning Model with max 10 features"
   ]
  },
  {
   "cell_type": "markdown",
   "metadata": {},
   "source": [
    "## Summary:"
   ]
  },
  {
   "cell_type": "markdown",
   "metadata": {},
   "source": [
    "In this notebook I develop a Restricted Machine Learning model that can predict whether a cocoa farming household in Ghana and Côte d'Ivoire reach a Living Income. The Machine Learning model is restricted to 10 features, to make its real-world application easy and cost-effective.\n",
    "\n",
    "I use as starting point the Machine Learning model prepared at [Living Income Analysis: Machine Learning notebook](LivingIncome_MachineLearning.ipynb), which in turn used\n",
    "as starting point the dataset prepared at [Living Income Analysis notebook](LivingIncomeAnalysis.ipynb)"
   ]
  },
  {
   "cell_type": "markdown",
   "metadata": {},
   "source": [
    "In this notebook, specifically I will:\n",
    "\n",
    "* Load the dataset\n",
    "* Extract the top 10 features\n",
    "* Re-fit the best classifier with the restricted dataset, using Grid Search with a stratified sross-validation\n",
    "* Search broadly using TPOT, with the same stratified cross-validation set \n",
    "* Compare performance and choose the best classifier with the restricted data\n",
    "* Calibrate the probabilities\n",
    "* Export the final model such that it can be used in a web-app and by others"
   ]
  },
  {
   "cell_type": "markdown",
   "metadata": {},
   "source": [
    "# 0 Preamble"
   ]
  },
  {
   "cell_type": "markdown",
   "metadata": {},
   "source": [
    "## 0.1 Load libraries"
   ]
  },
  {
   "cell_type": "code",
   "execution_count": 1,
   "metadata": {},
   "outputs": [
    {
     "name": "stderr",
     "output_type": "stream",
     "text": [
      "C:\\Users\\marce\\anaconda3\\envs\\livingincomemodel\\lib\\site-packages\\tpot\\builtins\\__init__.py:36: UserWarning: Warning: optional dependency `torch` is not available. - skipping import of NN models.\n",
      "  warnings.warn(\"Warning: optional dependency `torch` is not available. - skipping import of NN models.\")\n"
     ]
    }
   ],
   "source": [
    "import pandas as pd\n",
    "import numpy as np\n",
    "import matplotlib.pyplot as plt\n",
    "\n",
    "import pickle\n",
    "from time import time\n",
    "\n",
    "from sklearn.ensemble import AdaBoostClassifier\n",
    "\n",
    "from sklearn.metrics import accuracy_score\n",
    "from sklearn.metrics import fbeta_score\n",
    "from sklearn.metrics import make_scorer\n",
    "from sklearn.metrics import precision_recall_fscore_support\n",
    "\n",
    "from sklearn.metrics import plot_confusion_matrix\n",
    "from sklearn.metrics import confusion_matrix\n",
    "from sklearn.metrics import ConfusionMatrixDisplay\n",
    "\n",
    "from sklearn.model_selection import train_test_split\n",
    "from sklearn.model_selection import StratifiedShuffleSplit\n",
    "from sklearn.model_selection import GridSearchCV\n",
    "\n",
    "from tpot import TPOTClassifier\n",
    "\n",
    "from sklearn.calibration import CalibratedClassifierCV\n",
    "\n",
    "import visuals as vs # this is a slightly modifed code which provided via de Udacity Nanodegree Intro to Machine Learning"
   ]
  },
  {
   "cell_type": "markdown",
   "metadata": {},
   "source": [
    "## 0.1 Load Data"
   ]
  },
  {
   "cell_type": "markdown",
   "metadata": {},
   "source": [
    "Load data as in the previous notebook [Living Income Analysis: Machine Learning notebook](LivingIncome_MachineLearning.ipynb)"
   ]
  },
  {
   "cell_type": "code",
   "execution_count": 2,
   "metadata": {},
   "outputs": [],
   "source": [
    "data = pd.read_pickle('../data/data_ready_for_ML.pkl')"
   ]
  },
  {
   "cell_type": "markdown",
   "metadata": {},
   "source": [
    "Apply the same strategy to fill missing values, so the data is identical:\n",
    "\n",
    "* For categorical variables, use the mode\n",
    "* For numerical variable, use the median\n",
    "\n",
    "The strategy above is also quite robust to outliers, as the mode and median are typically quite stable and not sensitive to extreme values"
   ]
  },
  {
   "cell_type": "code",
   "execution_count": 3,
   "metadata": {},
   "outputs": [],
   "source": [
    "# iterate through all features\n",
    "for this_column in list(data.columns):\n",
    "\n",
    "    # check if categorical\n",
    "    if (str(data[this_column].dtype) == 'category') | (str(data[this_column].dtype) == 'object') :\n",
    "        fill_value = data[this_column].mode()\n",
    "\n",
    "    else:\n",
    "        fill_value = data[this_column].median()\n",
    "     \n",
    "    # fill missing values\n",
    "    data[this_column] = data[this_column].fillna(value = fill_value)"
   ]
  },
  {
   "cell_type": "markdown",
   "metadata": {},
   "source": [
    "Split into features and target"
   ]
  },
  {
   "cell_type": "code",
   "execution_count": 4,
   "metadata": {},
   "outputs": [],
   "source": [
    "target = data['Living Income Achieved']\n",
    "data.drop(['Living Income Achieved'], axis = 1, inplace = True)"
   ]
  },
  {
   "cell_type": "markdown",
   "metadata": {},
   "source": [
    "Expand dummies, to maintain the original shape"
   ]
  },
  {
   "cell_type": "code",
   "execution_count": 5,
   "metadata": {},
   "outputs": [],
   "source": [
    "data = pd.get_dummies(data)"
   ]
  },
  {
   "cell_type": "markdown",
   "metadata": {},
   "source": [
    "Check shape, which should be `(1377, 838)`"
   ]
  },
  {
   "cell_type": "code",
   "execution_count": 6,
   "metadata": {},
   "outputs": [
    {
     "data": {
      "text/plain": [
       "(1377, 838)"
      ]
     },
     "execution_count": 6,
     "metadata": {},
     "output_type": "execute_result"
    }
   ],
   "source": [
    "data.shape"
   ]
  },
  {
   "cell_type": "markdown",
   "metadata": {},
   "source": [
    "## 0.2 Load Best ML Model"
   ]
  },
  {
   "cell_type": "markdown",
   "metadata": {},
   "source": [
    "Load the best model from the previous notebook [Living Income Analysis: Machine Learning notebook](LivingIncome_MachineLearning.ipynb)"
   ]
  },
  {
   "cell_type": "code",
   "execution_count": 7,
   "metadata": {},
   "outputs": [],
   "source": [
    "best_model = pd.read_pickle('../models/best_overall.pkl')"
   ]
  },
  {
   "cell_type": "markdown",
   "metadata": {},
   "source": [
    "Get the 10 best features:"
   ]
  },
  {
   "cell_type": "code",
   "execution_count": 8,
   "metadata": {},
   "outputs": [
    {
     "data": {
      "text/html": [
       "<div>\n",
       "<style scoped>\n",
       "    .dataframe tbody tr th:only-of-type {\n",
       "        vertical-align: middle;\n",
       "    }\n",
       "\n",
       "    .dataframe tbody tr th {\n",
       "        vertical-align: top;\n",
       "    }\n",
       "\n",
       "    .dataframe thead th {\n",
       "        text-align: right;\n",
       "    }\n",
       "</style>\n",
       "<table border=\"1\" class=\"dataframe\">\n",
       "  <thead>\n",
       "    <tr style=\"text-align: right;\">\n",
       "      <th></th>\n",
       "      <th>Feature weight</th>\n",
       "    </tr>\n",
       "  </thead>\n",
       "  <tbody>\n",
       "    <tr>\n",
       "      <th>Estimated income percentage from sale of cocoa</th>\n",
       "      <td>0.092667</td>\n",
       "    </tr>\n",
       "    <tr>\n",
       "      <th>Cocoa production (kg/ha)</th>\n",
       "      <td>0.090667</td>\n",
       "    </tr>\n",
       "    <tr>\n",
       "      <th>Cocoa production (kg)</th>\n",
       "      <td>0.059333</td>\n",
       "    </tr>\n",
       "    <tr>\n",
       "      <th>Productive land under cocoa (ha)</th>\n",
       "      <td>0.042000</td>\n",
       "    </tr>\n",
       "    <tr>\n",
       "      <th>Cocoa land owned (ha)</th>\n",
       "      <td>0.029333</td>\n",
       "    </tr>\n",
       "    <tr>\n",
       "      <th>Hectares with trees between 5 and 25 years old</th>\n",
       "      <td>0.022000</td>\n",
       "    </tr>\n",
       "    <tr>\n",
       "      <th>Estimated income percentage from own small business or trading</th>\n",
       "      <td>0.021333</td>\n",
       "    </tr>\n",
       "    <tr>\n",
       "      <th>Head: age</th>\n",
       "      <td>0.020667</td>\n",
       "    </tr>\n",
       "    <tr>\n",
       "      <th>Estimated income percentage from sale of other crops</th>\n",
       "      <td>0.020000</td>\n",
       "    </tr>\n",
       "    <tr>\n",
       "      <th>Land used to cultivate all crops (ha)</th>\n",
       "      <td>0.014667</td>\n",
       "    </tr>\n",
       "  </tbody>\n",
       "</table>\n",
       "</div>"
      ],
      "text/plain": [
       "                                                    Feature weight\n",
       "Estimated income percentage from sale of cocoa            0.092667\n",
       "Cocoa production (kg/ha)                                  0.090667\n",
       "Cocoa production (kg)                                     0.059333\n",
       "Productive land under cocoa (ha)                          0.042000\n",
       "Cocoa land owned (ha)                                     0.029333\n",
       "Hectares with trees between 5 and 25 years old            0.022000\n",
       "Estimated income percentage from own small busi...        0.021333\n",
       "Head: age                                                 0.020667\n",
       "Estimated income percentage from sale of other ...        0.020000\n",
       "Land used to cultivate all crops (ha)                     0.014667"
      ]
     },
     "execution_count": 8,
     "metadata": {},
     "output_type": "execute_result"
    }
   ],
   "source": [
    "top_10_features = pd.DataFrame({'Feature weight': best_model.feature_importances_}, index=data.columns).sort_values(by='Feature weight', ascending=False).head(n=10)\n",
    "top_10_features"
   ]
  },
  {
   "cell_type": "markdown",
   "metadata": {},
   "source": [
    "Plot the top 10 features"
   ]
  },
  {
   "cell_type": "code",
   "execution_count": 9,
   "metadata": {},
   "outputs": [
    {
     "data": {
      "image/png": "[encoded data removed]",
      "text/plain": [
       "<Figure size 1000x1500 with 1 Axes>"
      ]
     },
     "metadata": {},
     "output_type": "display_data"
    }
   ],
   "source": [
    "vs.feature_plot(best_model.feature_importances_, data, target, n_features= 10)"
   ]
  },
  {
   "cell_type": "markdown",
   "metadata": {},
   "source": [
    "Store previous performance metrics for comparison"
   ]
  },
  {
   "cell_type": "code",
   "execution_count": 10,
   "metadata": {},
   "outputs": [],
   "source": [
    "FULL_adaOptimStrat_accuracy = 0.9652\n",
    "FULL_adaOptimStrat_fscore = 0.8667"
   ]
  },
  {
   "cell_type": "code",
   "execution_count": 11,
   "metadata": {},
   "outputs": [
    {
     "name": "stdout",
     "output_type": "stream",
     "text": [
      "ADAboost, Full Data Optimized Stratified Predictor: [Accuracy score: 0.9652, F-score: 0.8667]\n"
     ]
    }
   ],
   "source": [
    "print(\"ADAboost, Full Data Optimized Stratified Predictor: [Accuracy score: {:.4f}, F-score: {:.4f}]\".format(FULL_adaOptimStrat_accuracy, FULL_adaOptimStrat_fscore))"
   ]
  },
  {
   "cell_type": "markdown",
   "metadata": {},
   "source": [
    "# 1. Get Data ready"
   ]
  },
  {
   "cell_type": "markdown",
   "metadata": {},
   "source": [
    "Extract top 10 features:"
   ]
  },
  {
   "cell_type": "code",
   "execution_count": 12,
   "metadata": {},
   "outputs": [],
   "source": [
    "data_top10 = data[top_10_features.index]"
   ]
  },
  {
   "cell_type": "markdown",
   "metadata": {},
   "source": [
    "Confirm shape:"
   ]
  },
  {
   "cell_type": "code",
   "execution_count": 13,
   "metadata": {},
   "outputs": [
    {
     "data": {
      "text/plain": [
       "(1377, 10)"
      ]
     },
     "execution_count": 13,
     "metadata": {},
     "output_type": "execute_result"
    }
   ],
   "source": [
    "data_top10.shape"
   ]
  },
  {
   "cell_type": "markdown",
   "metadata": {},
   "source": [
    "Check basic descriptives"
   ]
  },
  {
   "cell_type": "code",
   "execution_count": 14,
   "metadata": {},
   "outputs": [
    {
     "data": {
      "text/html": [
       "<div>\n",
       "<style scoped>\n",
       "    .dataframe tbody tr th:only-of-type {\n",
       "        vertical-align: middle;\n",
       "    }\n",
       "\n",
       "    .dataframe tbody tr th {\n",
       "        vertical-align: top;\n",
       "    }\n",
       "\n",
       "    .dataframe thead th {\n",
       "        text-align: right;\n",
       "    }\n",
       "</style>\n",
       "<table border=\"1\" class=\"dataframe\">\n",
       "  <thead>\n",
       "    <tr style=\"text-align: right;\">\n",
       "      <th></th>\n",
       "      <th>Estimated income percentage from sale of cocoa</th>\n",
       "      <th>Cocoa production (kg/ha)</th>\n",
       "      <th>Cocoa production (kg)</th>\n",
       "      <th>Productive land under cocoa (ha)</th>\n",
       "      <th>Cocoa land owned (ha)</th>\n",
       "      <th>Hectares with trees between 5 and 25 years old</th>\n",
       "      <th>Estimated income percentage from own small business or trading</th>\n",
       "      <th>Head: age</th>\n",
       "      <th>Estimated income percentage from sale of other crops</th>\n",
       "      <th>Land used to cultivate all crops (ha)</th>\n",
       "    </tr>\n",
       "  </thead>\n",
       "  <tbody>\n",
       "    <tr>\n",
       "      <th>count</th>\n",
       "      <td>1377.000000</td>\n",
       "      <td>1377.000000</td>\n",
       "      <td>1377.000000</td>\n",
       "      <td>1377.000000</td>\n",
       "      <td>1377.000000</td>\n",
       "      <td>1377.000000</td>\n",
       "      <td>1377.000000</td>\n",
       "      <td>1377.000000</td>\n",
       "      <td>1377.000000</td>\n",
       "      <td>1377.000000</td>\n",
       "    </tr>\n",
       "    <tr>\n",
       "      <th>mean</th>\n",
       "      <td>0.636100</td>\n",
       "      <td>401.369507</td>\n",
       "      <td>1103.353516</td>\n",
       "      <td>3.062009</td>\n",
       "      <td>3.088592</td>\n",
       "      <td>2.452407</td>\n",
       "      <td>0.077807</td>\n",
       "      <td>50.591140</td>\n",
       "      <td>0.205309</td>\n",
       "      <td>5.279386</td>\n",
       "    </tr>\n",
       "    <tr>\n",
       "      <th>std</th>\n",
       "      <td>0.208974</td>\n",
       "      <td>239.152908</td>\n",
       "      <td>947.676453</td>\n",
       "      <td>2.325433</td>\n",
       "      <td>2.597953</td>\n",
       "      <td>2.076500</td>\n",
       "      <td>0.132000</td>\n",
       "      <td>13.217897</td>\n",
       "      <td>0.170920</td>\n",
       "      <td>3.430948</td>\n",
       "    </tr>\n",
       "    <tr>\n",
       "      <th>min</th>\n",
       "      <td>0.050000</td>\n",
       "      <td>20.000000</td>\n",
       "      <td>20.000000</td>\n",
       "      <td>0.202343</td>\n",
       "      <td>0.000000</td>\n",
       "      <td>0.000000</td>\n",
       "      <td>0.000000</td>\n",
       "      <td>16.000000</td>\n",
       "      <td>0.000000</td>\n",
       "      <td>0.352800</td>\n",
       "    </tr>\n",
       "    <tr>\n",
       "      <th>25%</th>\n",
       "      <td>0.500000</td>\n",
       "      <td>221.036102</td>\n",
       "      <td>447.999969</td>\n",
       "      <td>1.500000</td>\n",
       "      <td>1.500000</td>\n",
       "      <td>1.011716</td>\n",
       "      <td>0.000000</td>\n",
       "      <td>41.000000</td>\n",
       "      <td>0.100000</td>\n",
       "      <td>2.832804</td>\n",
       "    </tr>\n",
       "    <tr>\n",
       "      <th>50%</th>\n",
       "      <td>0.650000</td>\n",
       "      <td>355.831177</td>\n",
       "      <td>768.000000</td>\n",
       "      <td>2.428118</td>\n",
       "      <td>2.450000</td>\n",
       "      <td>2.000000</td>\n",
       "      <td>0.000000</td>\n",
       "      <td>50.000000</td>\n",
       "      <td>0.200000</td>\n",
       "      <td>4.249603</td>\n",
       "    </tr>\n",
       "    <tr>\n",
       "      <th>75%</th>\n",
       "      <td>0.800000</td>\n",
       "      <td>525.000000</td>\n",
       "      <td>1478.000000</td>\n",
       "      <td>4.000000</td>\n",
       "      <td>4.046863</td>\n",
       "      <td>3.237490</td>\n",
       "      <td>0.100000</td>\n",
       "      <td>60.000000</td>\n",
       "      <td>0.300000</td>\n",
       "      <td>6.717792</td>\n",
       "    </tr>\n",
       "    <tr>\n",
       "      <th>max</th>\n",
       "      <td>1.000000</td>\n",
       "      <td>1423.324829</td>\n",
       "      <td>5600.000000</td>\n",
       "      <td>15.000000</td>\n",
       "      <td>15.000000</td>\n",
       "      <td>13.750000</td>\n",
       "      <td>0.900000</td>\n",
       "      <td>95.000000</td>\n",
       "      <td>0.900000</td>\n",
       "      <td>21.000000</td>\n",
       "    </tr>\n",
       "  </tbody>\n",
       "</table>\n",
       "</div>"
      ],
      "text/plain": [
       "       Estimated income percentage from sale of cocoa  \\\n",
       "count                                     1377.000000   \n",
       "mean                                         0.636100   \n",
       "std                                          0.208974   \n",
       "min                                          0.050000   \n",
       "25%                                          0.500000   \n",
       "50%                                          0.650000   \n",
       "75%                                          0.800000   \n",
       "max                                          1.000000   \n",
       "\n",
       "       Cocoa production (kg/ha)  Cocoa production (kg)  \\\n",
       "count               1377.000000            1377.000000   \n",
       "mean                 401.369507            1103.353516   \n",
       "std                  239.152908             947.676453   \n",
       "min                   20.000000              20.000000   \n",
       "25%                  221.036102             447.999969   \n",
       "50%                  355.831177             768.000000   \n",
       "75%                  525.000000            1478.000000   \n",
       "max                 1423.324829            5600.000000   \n",
       "\n",
       "       Productive land under cocoa (ha)  Cocoa land owned (ha)  \\\n",
       "count                       1377.000000            1377.000000   \n",
       "mean                           3.062009               3.088592   \n",
       "std                            2.325433               2.597953   \n",
       "min                            0.202343               0.000000   \n",
       "25%                            1.500000               1.500000   \n",
       "50%                            2.428118               2.450000   \n",
       "75%                            4.000000               4.046863   \n",
       "max                           15.000000              15.000000   \n",
       "\n",
       "       Hectares with trees between 5 and 25 years old  \\\n",
       "count                                     1377.000000   \n",
       "mean                                         2.452407   \n",
       "std                                          2.076500   \n",
       "min                                          0.000000   \n",
       "25%                                          1.011716   \n",
       "50%                                          2.000000   \n",
       "75%                                          3.237490   \n",
       "max                                         13.750000   \n",
       "\n",
       "       Estimated income percentage from own small business or trading  \\\n",
       "count                                        1377.000000                \n",
       "mean                                            0.077807                \n",
       "std                                             0.132000                \n",
       "min                                             0.000000                \n",
       "25%                                             0.000000                \n",
       "50%                                             0.000000                \n",
       "75%                                             0.100000                \n",
       "max                                             0.900000                \n",
       "\n",
       "         Head: age  Estimated income percentage from sale of other crops  \\\n",
       "count  1377.000000                                        1377.000000      \n",
       "mean     50.591140                                           0.205309      \n",
       "std      13.217897                                           0.170920      \n",
       "min      16.000000                                           0.000000      \n",
       "25%      41.000000                                           0.100000      \n",
       "50%      50.000000                                           0.200000      \n",
       "75%      60.000000                                           0.300000      \n",
       "max      95.000000                                           0.900000      \n",
       "\n",
       "       Land used to cultivate all crops (ha)  \n",
       "count                            1377.000000  \n",
       "mean                                5.279386  \n",
       "std                                 3.430948  \n",
       "min                                 0.352800  \n",
       "25%                                 2.832804  \n",
       "50%                                 4.249603  \n",
       "75%                                 6.717792  \n",
       "max                                21.000000  "
      ]
     },
     "execution_count": 14,
     "metadata": {},
     "output_type": "execute_result"
    }
   ],
   "source": [
    "data_top10.describe()"
   ]
  },
  {
   "cell_type": "markdown",
   "metadata": {},
   "source": [
    "Export the data used for the restricted model:"
   ]
  },
  {
   "cell_type": "code",
   "execution_count": 15,
   "metadata": {},
   "outputs": [],
   "source": [
    "data_for_restricted_ML = pd.concat([target, data_top10], axis = 1)"
   ]
  },
  {
   "cell_type": "code",
   "execution_count": 16,
   "metadata": {},
   "outputs": [
    {
     "data": {
      "text/html": [
       "<div>\n",
       "<style scoped>\n",
       "    .dataframe tbody tr th:only-of-type {\n",
       "        vertical-align: middle;\n",
       "    }\n",
       "\n",
       "    .dataframe tbody tr th {\n",
       "        vertical-align: top;\n",
       "    }\n",
       "\n",
       "    .dataframe thead th {\n",
       "        text-align: right;\n",
       "    }\n",
       "</style>\n",
       "<table border=\"1\" class=\"dataframe\">\n",
       "  <thead>\n",
       "    <tr style=\"text-align: right;\">\n",
       "      <th></th>\n",
       "      <th>Living Income Achieved</th>\n",
       "      <th>Estimated income percentage from sale of cocoa</th>\n",
       "      <th>Cocoa production (kg/ha)</th>\n",
       "      <th>Cocoa production (kg)</th>\n",
       "      <th>Productive land under cocoa (ha)</th>\n",
       "      <th>Cocoa land owned (ha)</th>\n",
       "      <th>Hectares with trees between 5 and 25 years old</th>\n",
       "      <th>Estimated income percentage from own small business or trading</th>\n",
       "      <th>Head: age</th>\n",
       "      <th>Estimated income percentage from sale of other crops</th>\n",
       "      <th>Land used to cultivate all crops (ha)</th>\n",
       "    </tr>\n",
       "  </thead>\n",
       "  <tbody>\n",
       "    <tr>\n",
       "      <th>0</th>\n",
       "      <td>False</td>\n",
       "      <td>0.89</td>\n",
       "      <td>177.915604</td>\n",
       "      <td>576.0</td>\n",
       "      <td>3.237490</td>\n",
       "      <td>4.046863</td>\n",
       "      <td>3.237490</td>\n",
       "      <td>0.00</td>\n",
       "      <td>49.0</td>\n",
       "      <td>0.11</td>\n",
       "      <td>4.856235</td>\n",
       "    </tr>\n",
       "    <tr>\n",
       "      <th>1</th>\n",
       "      <td>False</td>\n",
       "      <td>0.60</td>\n",
       "      <td>722.958618</td>\n",
       "      <td>1024.0</td>\n",
       "      <td>1.416402</td>\n",
       "      <td>1.618745</td>\n",
       "      <td>1.416402</td>\n",
       "      <td>0.00</td>\n",
       "      <td>63.0</td>\n",
       "      <td>0.25</td>\n",
       "      <td>3.035147</td>\n",
       "    </tr>\n",
       "    <tr>\n",
       "      <th>2</th>\n",
       "      <td>False</td>\n",
       "      <td>0.50</td>\n",
       "      <td>210.862946</td>\n",
       "      <td>128.0</td>\n",
       "      <td>0.607029</td>\n",
       "      <td>0.607029</td>\n",
       "      <td>0.607029</td>\n",
       "      <td>0.35</td>\n",
       "      <td>53.0</td>\n",
       "      <td>0.15</td>\n",
       "      <td>0.809373</td>\n",
       "    </tr>\n",
       "    <tr>\n",
       "      <th>3</th>\n",
       "      <td>False</td>\n",
       "      <td>0.65</td>\n",
       "      <td>316.294403</td>\n",
       "      <td>512.0</td>\n",
       "      <td>1.618745</td>\n",
       "      <td>1.618745</td>\n",
       "      <td>1.618745</td>\n",
       "      <td>0.00</td>\n",
       "      <td>65.0</td>\n",
       "      <td>0.30</td>\n",
       "      <td>2.428118</td>\n",
       "    </tr>\n",
       "    <tr>\n",
       "      <th>5</th>\n",
       "      <td>False</td>\n",
       "      <td>0.80</td>\n",
       "      <td>197.683990</td>\n",
       "      <td>320.0</td>\n",
       "      <td>1.618745</td>\n",
       "      <td>2.428118</td>\n",
       "      <td>1.618745</td>\n",
       "      <td>0.00</td>\n",
       "      <td>60.0</td>\n",
       "      <td>0.00</td>\n",
       "      <td>2.428118</td>\n",
       "    </tr>\n",
       "  </tbody>\n",
       "</table>\n",
       "</div>"
      ],
      "text/plain": [
       "   Living Income Achieved  Estimated income percentage from sale of cocoa  \\\n",
       "0                   False                                            0.89   \n",
       "1                   False                                            0.60   \n",
       "2                   False                                            0.50   \n",
       "3                   False                                            0.65   \n",
       "5                   False                                            0.80   \n",
       "\n",
       "   Cocoa production (kg/ha)  Cocoa production (kg)  \\\n",
       "0                177.915604                  576.0   \n",
       "1                722.958618                 1024.0   \n",
       "2                210.862946                  128.0   \n",
       "3                316.294403                  512.0   \n",
       "5                197.683990                  320.0   \n",
       "\n",
       "   Productive land under cocoa (ha)  Cocoa land owned (ha)  \\\n",
       "0                          3.237490               4.046863   \n",
       "1                          1.416402               1.618745   \n",
       "2                          0.607029               0.607029   \n",
       "3                          1.618745               1.618745   \n",
       "5                          1.618745               2.428118   \n",
       "\n",
       "   Hectares with trees between 5 and 25 years old  \\\n",
       "0                                        3.237490   \n",
       "1                                        1.416402   \n",
       "2                                        0.607029   \n",
       "3                                        1.618745   \n",
       "5                                        1.618745   \n",
       "\n",
       "   Estimated income percentage from own small business or trading  Head: age  \\\n",
       "0                                               0.00                    49.0   \n",
       "1                                               0.00                    63.0   \n",
       "2                                               0.35                    53.0   \n",
       "3                                               0.00                    65.0   \n",
       "5                                               0.00                    60.0   \n",
       "\n",
       "   Estimated income percentage from sale of other crops  \\\n",
       "0                                               0.11      \n",
       "1                                               0.25      \n",
       "2                                               0.15      \n",
       "3                                               0.30      \n",
       "5                                               0.00      \n",
       "\n",
       "   Land used to cultivate all crops (ha)  \n",
       "0                               4.856235  \n",
       "1                               3.035147  \n",
       "2                               0.809373  \n",
       "3                               2.428118  \n",
       "5                               2.428118  "
      ]
     },
     "execution_count": 16,
     "metadata": {},
     "output_type": "execute_result"
    }
   ],
   "source": [
    "data_for_restricted_ML.head()"
   ]
  },
  {
   "cell_type": "code",
   "execution_count": 17,
   "metadata": {},
   "outputs": [],
   "source": [
    "data_for_restricted_ML.to_pickle('../data/data_for_restricted_ML.pkl')"
   ]
  },
  {
   "cell_type": "markdown",
   "metadata": {},
   "source": [
    "# 2. Grid Search best parameters, using stratified shuffle split"
   ]
  },
  {
   "cell_type": "markdown",
   "metadata": {},
   "source": [
    "Split data in training and test set:"
   ]
  },
  {
   "cell_type": "code",
   "execution_count": 18,
   "metadata": {},
   "outputs": [],
   "source": [
    "X_train, X_test, y_train, y_test = train_test_split(data_top10, target,\n",
    "                                                    train_size=0.75, test_size=0.25,\n",
    "                                                   random_state = 32)"
   ]
  },
  {
   "cell_type": "markdown",
   "metadata": {},
   "source": [
    "## 2.1 Re-fit AdaBoostClassifier"
   ]
  },
  {
   "cell_type": "markdown",
   "metadata": {},
   "source": [
    "Prepare elements for the grid search. using the same parameters as in the previous notebook"
   ]
  },
  {
   "cell_type": "code",
   "execution_count": 19,
   "metadata": {},
   "outputs": [],
   "source": [
    "# base classifier\n",
    "clf = AdaBoostClassifier(random_state=42)\n",
    "\n",
    "# Create the parameters list to tune\n",
    "parameters = {'n_estimators':[10, 50, 500, 1200, 1500, 2000],\n",
    "              'learning_rate':[1.0,1.5,2.0]}\n",
    "\n",
    "# Make an fbeta_score scoring object using make_scorer()\n",
    "scorer = make_scorer(fbeta_score, beta= 0.5)\n",
    "\n",
    "# Make sure it is stratified\n",
    "cv_strat = StratifiedShuffleSplit(n_splits=5,\n",
    "                                  test_size=0.2,\n",
    "                                  random_state=42)\n"
   ]
  },
  {
   "cell_type": "markdown",
   "metadata": {},
   "source": [
    "Run the grid search"
   ]
  },
  {
   "cell_type": "code",
   "execution_count": 20,
   "metadata": {},
   "outputs": [
    {
     "name": "stdout",
     "output_type": "stream",
     "text": [
      "Fitting 5 folds for each of 18 candidates, totalling 90 fits\n",
      "Best model:\n",
      "AdaBoostClassifier(n_estimators=500, random_state=42)\n",
      "------\n",
      "\n",
      "Restricted Optimized Model with stratification\n",
      "------\n",
      "Final accuracy score on the testing data: 0.9536\n",
      "Final F-score on the testing data: 0.8458\n"
     ]
    }
   ],
   "source": [
    "## Create a Grid Search instance, using stratified CV\n",
    "grid_obj_strat = GridSearchCV(clf, parameters, scoring = scorer, verbose=2,\n",
    "                             cv = cv_strat, n_jobs = -1)\n",
    "\n",
    "# Fit the grid search object to the training data and find the optimal parameters using fit()\n",
    "grid_fit_strat = grid_obj_strat.fit(X_train, y_train)\n",
    "\n",
    "# Get the estimator\n",
    "best_clf_strat = grid_fit_strat.best_estimator_\n",
    "\n",
    "# print best model:\n",
    "print(\"Best model:\")\n",
    "print(best_clf_strat)\n",
    "print(\"------\")\n",
    "\n",
    "# Make predictions \n",
    "best_predictions_strat = best_clf_strat.predict(X_test)\n",
    "\n",
    "# metrics\n",
    "adaOptimStrat_accuracy = accuracy_score(y_test, best_predictions_strat)\n",
    "adaOptimStrat_fscore = fbeta_score(y_test, best_predictions_strat, beta = 0.5)\n",
    "\n",
    "print(\"\\nRestricted Optimized Model with stratification\\n------\")\n",
    "print(\"Final accuracy score on the testing data: {:.4f}\".format(adaOptimStrat_accuracy))\n",
    "print(\"Final F-score on the testing data: {:.4f}\".format(adaOptimStrat_fscore))"
   ]
  },
  {
   "cell_type": "markdown",
   "metadata": {},
   "source": [
    "Because the solution is on the limits (`learning rate = 1.0`), let's expand grid parameters:"
   ]
  },
  {
   "cell_type": "code",
   "execution_count": 21,
   "metadata": {},
   "outputs": [],
   "source": [
    "parameters = {'n_estimators':[10, 50, 500, 1200, 1300, 1500, 1600, 2000],\n",
    "              'learning_rate':[0.05, 0.1, 0.2, 0.3, 0.5,1.0,1.5,2.0]}"
   ]
  },
  {
   "cell_type": "markdown",
   "metadata": {},
   "source": [
    "Re-run Grid Search"
   ]
  },
  {
   "cell_type": "code",
   "execution_count": 22,
   "metadata": {},
   "outputs": [
    {
     "name": "stdout",
     "output_type": "stream",
     "text": [
      "Fitting 5 folds for each of 64 candidates, totalling 320 fits\n",
      "Best model:\n",
      "AdaBoostClassifier(learning_rate=0.1, n_estimators=1500, random_state=42)\n",
      "------\n",
      "\n",
      "Restricted Optimized Model with stratification\n",
      "------\n",
      "Final accuracy score on the testing data: 0.9623\n",
      "Final F-score on the testing data: 0.8780\n"
     ]
    }
   ],
   "source": [
    "## Create a Grid Search instance, using stratified CV\n",
    "grid_obj_strat = GridSearchCV(clf, parameters, scoring = scorer, verbose=2,\n",
    "                             cv = cv_strat, n_jobs = -1)\n",
    "\n",
    "# Fit the grid search object to the training data and find the optimal parameters using fit()\n",
    "grid_fit_strat = grid_obj_strat.fit(X_train, y_train)\n",
    "\n",
    "# Get the estimator\n",
    "best_clf_strat = grid_fit_strat.best_estimator_\n",
    "\n",
    "# print best model:\n",
    "print(\"Best model:\")\n",
    "print(best_clf_strat)\n",
    "print(\"------\")\n",
    "\n",
    "# Make predictions \n",
    "best_predictions_strat = best_clf_strat.predict(X_test)\n",
    "\n",
    "# metrics\n",
    "adaOptimStrat_accuracy = accuracy_score(y_test, best_predictions_strat)\n",
    "adaOptimStrat_fscore = fbeta_score(y_test, best_predictions_strat, beta = 0.5)\n",
    "\n",
    "print(\"\\nRestricted Optimized Model with stratification\\n------\")\n",
    "print(\"Final accuracy score on the testing data: {:.4f}\".format(adaOptimStrat_accuracy))\n",
    "print(\"Final F-score on the testing data: {:.4f}\".format(adaOptimStrat_fscore))"
   ]
  },
  {
   "cell_type": "markdown",
   "metadata": {},
   "source": [
    "Compare full with the restricted model"
   ]
  },
  {
   "cell_type": "code",
   "execution_count": 23,
   "metadata": {},
   "outputs": [
    {
     "name": "stdout",
     "output_type": "stream",
     "text": [
      "ADAboost, Full Data Optimized Stratified Predictor: [Accuracy score: 0.9652, F-score: 0.8667]\n",
      "ADAboost, Restricted Data Optimized Stratified Predictor: [Accuracy score: 0.9623, F-score: 0.8780]\n"
     ]
    }
   ],
   "source": [
    "print(\"ADAboost, Full Data Optimized Stratified Predictor: [Accuracy score: {:.4f}, F-score: {:.4f}]\".format(FULL_adaOptimStrat_accuracy, FULL_adaOptimStrat_fscore))\n",
    "print(\"ADAboost, Restricted Data Optimized Stratified Predictor: [Accuracy score: {:.4f}, F-score: {:.4f}]\".format(adaOptimStrat_accuracy, adaOptimStrat_fscore))"
   ]
  },
  {
   "cell_type": "markdown",
   "metadata": {},
   "source": [
    "Check broader performance metrics"
   ]
  },
  {
   "cell_type": "code",
   "execution_count": 24,
   "metadata": {},
   "outputs": [
    {
     "data": {
      "text/plain": [
       "(array([0.9704918, 0.9      ]),\n",
       " array([0.98666667, 0.8       ]),\n",
       " array([0.97368421, 0.87804878]),\n",
       " array([300,  45], dtype=int64))"
      ]
     },
     "execution_count": 24,
     "metadata": {},
     "output_type": "execute_result"
    }
   ],
   "source": [
    "precision_recall_fscore_support(y_test, best_predictions_strat, beta = 0.5)"
   ]
  },
  {
   "cell_type": "code",
   "execution_count": 25,
   "metadata": {},
   "outputs": [
    {
     "data": {
      "text/plain": [
       "array([[296,   4],\n",
       "       [  9,  36]], dtype=int64)"
      ]
     },
     "execution_count": 25,
     "metadata": {},
     "output_type": "execute_result"
    }
   ],
   "source": [
    "confusion_matrix(y_test, best_predictions_strat)"
   ]
  },
  {
   "cell_type": "code",
   "execution_count": 26,
   "metadata": {},
   "outputs": [
    {
     "name": "stderr",
     "output_type": "stream",
     "text": [
      "C:\\Users\\marce\\anaconda3\\envs\\livingincomemodel\\lib\\site-packages\\sklearn\\utils\\deprecation.py:87: FutureWarning: Function plot_confusion_matrix is deprecated; Function `plot_confusion_matrix` is deprecated in 1.0 and will be removed in 1.2. Use one of the class methods: ConfusionMatrixDisplay.from_predictions or ConfusionMatrixDisplay.from_estimator.\n",
      "  warnings.warn(msg, category=FutureWarning)\n"
     ]
    },
    {
     "data": {
      "image/png": "[encoded data removed]",
      "text/plain": [
       "<Figure size 640x480 with 2 Axes>"
      ]
     },
     "metadata": {},
     "output_type": "display_data"
    }
   ],
   "source": [
    "plot_confusion_matrix(best_clf_strat, \n",
    "                      X_test, y_test,\n",
    "                      cmap=plt.cm.Blues,\n",
    "                      normalize = 'true');"
   ]
  },
  {
   "cell_type": "markdown",
   "metadata": {},
   "source": [
    "Let's save the best model so far:"
   ]
  },
  {
   "cell_type": "code",
   "execution_count": 27,
   "metadata": {},
   "outputs": [],
   "source": [
    "pkl_filename = '../models/restricted_ada_best_strat.pkl'\n",
    "pickle.dump(best_clf_strat, open(pkl_filename, 'wb'))"
   ]
  },
  {
   "cell_type": "markdown",
   "metadata": {},
   "source": [
    "## 2.1 Search broadly using TPOT"
   ]
  },
  {
   "cell_type": "code",
   "execution_count": 28,
   "metadata": {},
   "outputs": [],
   "source": [
    "pipeline_optimizer = TPOTClassifier()"
   ]
  },
  {
   "cell_type": "code",
   "execution_count": 29,
   "metadata": {},
   "outputs": [],
   "source": [
    "pipeline_optimizer = TPOTClassifier(verbosity=2,\n",
    "                                     n_jobs = -1,\n",
    "                                    random_state = 32,\n",
    "                                   periodic_checkpoint_folder = \"../models/intermediate_results\",\n",
    "                                    cv = cv_strat,\n",
    "                                    scoring = scorer\n",
    "                                   )"
   ]
  },
  {
   "cell_type": "code",
   "execution_count": 30,
   "metadata": {
    "scrolled": true
   },
   "outputs": [
    {
     "data": {
      "application/vnd.jupyter.widget-view+json": {
       "model_id": "",
       "version_major": 2,
       "version_minor": 0
      },
      "text/plain": [
       "HBox(children=(FloatProgress(value=0.0, description='Optimization Progress', max=10100.0, style=ProgressStyle(…"
      ]
     },
     "metadata": {},
     "output_type": "display_data"
    },
    {
     "name": "stdout",
     "output_type": "stream",
     "text": [
      "\n",
      "Generation 1 - Current best internal CV score: 0.8950299281181634\n",
      "\n",
      "Generation 2 - Current best internal CV score: 0.8950299281181634\n",
      "\n",
      "Generation 3 - Current best internal CV score: 0.8950299281181634\n",
      "\n",
      "Generation 4 - Current best internal CV score: 0.8950299281181634\n",
      "\n",
      "Generation 5 - Current best internal CV score: 0.8969206844206845\n",
      "\n",
      "Generation 6 - Current best internal CV score: 0.8969206844206845\n",
      "\n",
      "Generation 7 - Current best internal CV score: 0.8973901401693443\n",
      "\n",
      "Generation 8 - Current best internal CV score: 0.9036664724164722\n",
      "\n",
      "Generation 9 - Current best internal CV score: 0.9036664724164722\n",
      "\n",
      "Generation 10 - Current best internal CV score: 0.9036664724164722\n",
      "\n",
      "Generation 11 - Current best internal CV score: 0.9036664724164722\n",
      "\n",
      "Generation 12 - Current best internal CV score: 0.9116475346314055\n",
      "\n",
      "Generation 13 - Current best internal CV score: 0.9116475346314055\n",
      "\n",
      "Generation 14 - Current best internal CV score: 0.9116475346314055\n",
      "\n",
      "Generation 15 - Current best internal CV score: 0.9161531279178338\n",
      "\n",
      "Generation 16 - Current best internal CV score: 0.9223026598026598\n",
      "\n",
      "Generation 17 - Current best internal CV score: 0.9223026598026598\n",
      "\n",
      "Generation 18 - Current best internal CV score: 0.9223026598026598\n",
      "\n",
      "Generation 19 - Current best internal CV score: 0.9223026598026598\n",
      "\n",
      "Generation 20 - Current best internal CV score: 0.9223026598026598\n",
      "\n",
      "Generation 21 - Current best internal CV score: 0.9223026598026598\n",
      "\n",
      "Generation 22 - Current best internal CV score: 0.9223026598026598\n",
      "\n",
      "Generation 23 - Current best internal CV score: 0.9223026598026598\n",
      "\n",
      "Generation 24 - Current best internal CV score: 0.9255706336588689\n",
      "\n",
      "Generation 25 - Current best internal CV score: 0.9255706336588689\n",
      "\n",
      "Generation 26 - Current best internal CV score: 0.9255706336588689\n",
      "\n",
      "Generation 27 - Current best internal CV score: 0.9255706336588689\n",
      "\n",
      "Generation 28 - Current best internal CV score: 0.9255706336588689\n",
      "\n",
      "Generation 29 - Current best internal CV score: 0.9255706336588689\n",
      "\n",
      "Generation 30 - Current best internal CV score: 0.9255706336588689\n",
      "\n",
      "Generation 31 - Current best internal CV score: 0.9255706336588689\n",
      "\n",
      "Generation 32 - Current best internal CV score: 0.92746138996139\n",
      "\n",
      "Generation 33 - Current best internal CV score: 0.92746138996139\n",
      "\n",
      "Generation 34 - Current best internal CV score: 0.92746138996139\n",
      "\n",
      "Generation 35 - Current best internal CV score: 0.92746138996139\n",
      "\n",
      "Generation 36 - Current best internal CV score: 0.92746138996139\n",
      "\n",
      "Generation 37 - Current best internal CV score: 0.92746138996139\n",
      "\n",
      "Generation 38 - Current best internal CV score: 0.92746138996139\n",
      "\n",
      "Generation 39 - Current best internal CV score: 0.92746138996139\n",
      "\n",
      "Generation 40 - Current best internal CV score: 0.92746138996139\n",
      "\n",
      "Generation 41 - Current best internal CV score: 0.92746138996139\n",
      "\n",
      "Generation 42 - Current best internal CV score: 0.92746138996139\n",
      "\n",
      "Generation 43 - Current best internal CV score: 0.92746138996139\n",
      "\n",
      "Generation 44 - Current best internal CV score: 0.92746138996139\n",
      "\n",
      "Generation 45 - Current best internal CV score: 0.92746138996139\n",
      "\n",
      "Generation 46 - Current best internal CV score: 0.92746138996139\n",
      "\n",
      "Generation 47 - Current best internal CV score: 0.92746138996139\n",
      "\n",
      "Generation 48 - Current best internal CV score: 0.92746138996139\n",
      "\n",
      "Generation 49 - Current best internal CV score: 0.92746138996139\n",
      "\n",
      "Generation 50 - Current best internal CV score: 0.92746138996139\n",
      "\n",
      "Generation 51 - Current best internal CV score: 0.92746138996139\n",
      "\n",
      "Generation 52 - Current best internal CV score: 0.92746138996139\n",
      "\n",
      "Generation 53 - Current best internal CV score: 0.92746138996139\n",
      "\n",
      "Generation 54 - Current best internal CV score: 0.92746138996139\n",
      "\n",
      "Generation 55 - Current best internal CV score: 0.92746138996139\n",
      "\n",
      "Generation 56 - Current best internal CV score: 0.92746138996139\n",
      "\n",
      "Generation 57 - Current best internal CV score: 0.92746138996139\n",
      "\n",
      "Generation 58 - Current best internal CV score: 0.92746138996139\n",
      "\n",
      "Generation 59 - Current best internal CV score: 0.92746138996139\n",
      "\n",
      "Generation 60 - Current best internal CV score: 0.92746138996139\n",
      "\n",
      "Generation 61 - Current best internal CV score: 0.92746138996139\n",
      "\n",
      "Generation 62 - Current best internal CV score: 0.92746138996139\n",
      "\n",
      "Generation 63 - Current best internal CV score: 0.92746138996139\n",
      "\n",
      "Generation 64 - Current best internal CV score: 0.92746138996139\n",
      "\n",
      "Generation 65 - Current best internal CV score: 0.92746138996139\n",
      "\n",
      "Generation 66 - Current best internal CV score: 0.92746138996139\n",
      "\n",
      "Generation 67 - Current best internal CV score: 0.92746138996139\n",
      "\n",
      "Generation 68 - Current best internal CV score: 0.92746138996139\n",
      "\n",
      "Generation 69 - Current best internal CV score: 0.92746138996139\n",
      "\n",
      "Generation 70 - Current best internal CV score: 0.92746138996139\n",
      "\n",
      "Generation 71 - Current best internal CV score: 0.92746138996139\n",
      "\n",
      "Generation 72 - Current best internal CV score: 0.92746138996139\n",
      "\n",
      "Generation 73 - Current best internal CV score: 0.92746138996139\n",
      "\n",
      "Generation 74 - Current best internal CV score: 0.92746138996139\n",
      "\n",
      "Generation 75 - Current best internal CV score: 0.92746138996139\n",
      "\n",
      "Generation 76 - Current best internal CV score: 0.92746138996139\n",
      "\n",
      "Generation 77 - Current best internal CV score: 0.92746138996139\n",
      "\n",
      "Generation 78 - Current best internal CV score: 0.92746138996139\n",
      "\n",
      "Generation 79 - Current best internal CV score: 0.92746138996139\n",
      "\n",
      "Generation 80 - Current best internal CV score: 0.92746138996139\n",
      "\n",
      "Generation 81 - Current best internal CV score: 0.92746138996139\n",
      "\n",
      "Generation 82 - Current best internal CV score: 0.92746138996139\n",
      "\n",
      "Generation 83 - Current best internal CV score: 0.92746138996139\n",
      "\n",
      "Generation 84 - Current best internal CV score: 0.92746138996139\n",
      "\n",
      "Generation 85 - Current best internal CV score: 0.92746138996139\n",
      "\n",
      "Generation 86 - Current best internal CV score: 0.932505472401108\n",
      "\n",
      "Generation 87 - Current best internal CV score: 0.932505472401108\n",
      "\n",
      "Generation 88 - Current best internal CV score: 0.932505472401108\n",
      "\n",
      "Generation 89 - Current best internal CV score: 0.932505472401108\n",
      "\n",
      "Generation 90 - Current best internal CV score: 0.932505472401108\n",
      "\n",
      "Generation 91 - Current best internal CV score: 0.932505472401108\n",
      "\n",
      "Generation 92 - Current best internal CV score: 0.932505472401108\n",
      "\n",
      "Generation 93 - Current best internal CV score: 0.932505472401108\n",
      "\n",
      "Generation 94 - Current best internal CV score: 0.932505472401108\n",
      "\n",
      "Generation 95 - Current best internal CV score: 0.932505472401108\n",
      "\n",
      "Generation 96 - Current best internal CV score: 0.932505472401108\n",
      "\n",
      "Generation 97 - Current best internal CV score: 0.932505472401108\n",
      "\n",
      "Generation 98 - Current best internal CV score: 0.932505472401108\n",
      "\n",
      "Generation 99 - Current best internal CV score: 0.932505472401108\n",
      "\n",
      "Generation 100 - Current best internal CV score: 0.932505472401108\n",
      "\n",
      "Best pipeline: GradientBoostingClassifier(Normalizer(RFE(BernoulliNB(input_matrix, alpha=100.0, fit_prior=False), criterion=entropy, max_features=0.8, n_estimators=100, step=0.9000000000000001), norm=l1), learning_rate=0.01, max_depth=2, max_features=0.9500000000000001, min_samples_leaf=7, min_samples_split=19, n_estimators=100, subsample=0.3)\n",
      "0.9116022099447513\n"
     ]
    }
   ],
   "source": [
    "pipeline_optimizer.fit(X_train, y_train)\n",
    "print(pipeline_optimizer.score(X_test, y_test))\n",
    "pipeline_optimizer.export('../models/restricted_tpot_exported_pipeline.py')"
   ]
  },
  {
   "cell_type": "markdown",
   "metadata": {},
   "source": [
    "Check score:"
   ]
  },
  {
   "cell_type": "code",
   "execution_count": 31,
   "metadata": {},
   "outputs": [
    {
     "name": "stdout",
     "output_type": "stream",
     "text": [
      "0.9116022099447513\n"
     ]
    }
   ],
   "source": [
    "print(pipeline_optimizer.score(X_test, y_test))"
   ]
  },
  {
   "cell_type": "markdown",
   "metadata": {},
   "source": [
    "Compute performance metrics:"
   ]
  },
  {
   "cell_type": "code",
   "execution_count": 32,
   "metadata": {},
   "outputs": [],
   "source": [
    "tpot_pred = pipeline_optimizer.predict(X_test)"
   ]
  },
  {
   "cell_type": "code",
   "execution_count": 33,
   "metadata": {},
   "outputs": [],
   "source": [
    "# metrics\n",
    "tpot_accuracy = accuracy_score(y_test, tpot_pred)\n",
    "tpot_fscore = fbeta_score(y_test, tpot_pred, beta = 0.5)"
   ]
  },
  {
   "cell_type": "markdown",
   "metadata": {},
   "source": [
    "Compare ML models:"
   ]
  },
  {
   "cell_type": "code",
   "execution_count": 64,
   "metadata": {},
   "outputs": [
    {
     "name": "stdout",
     "output_type": "stream",
     "text": [
      "ADAboost, Full Data Optimized Stratified Predictor: [Accuracy score: 0.9652, F-score: 0.8667]\n",
      "ADAboost, Restricted Data Optimized Stratified Predictor: [Accuracy score: 0.9623, F-score: 0.8780]\n",
      "TPOT Predictor, Restricted Model: [Accuracy score: 0.9623, F-score: 0.9116]\n"
     ]
    }
   ],
   "source": [
    "print(\"ADAboost, Full Data Optimized Stratified Predictor: [Accuracy score: {:.4f}, F-score: {:.4f}]\".format(FULL_adaOptimStrat_accuracy, FULL_adaOptimStrat_fscore))\n",
    "print(\"ADAboost, Restricted Data Optimized Stratified Predictor: [Accuracy score: {:.4f}, F-score: {:.4f}]\".format(adaOptimStrat_accuracy, adaOptimStrat_fscore))\n",
    "print(\"TPOT Predictor, Restricted Model: [Accuracy score: {:.4f}, F-score: {:.4f}]\".format(tpot_accuracy, tpot_fscore))"
   ]
  },
  {
   "cell_type": "code",
   "execution_count": 35,
   "metadata": {},
   "outputs": [
    {
     "data": {
      "text/plain": [
       "(array([0.96141479, 0.97058824]),\n",
       " array([0.99666667, 0.73333333]),\n",
       " array([0.96826425, 0.91160221]),\n",
       " array([300,  45], dtype=int64))"
      ]
     },
     "execution_count": 35,
     "metadata": {},
     "output_type": "execute_result"
    }
   ],
   "source": [
    "precision_recall_fscore_support(y_test, tpot_pred, beta = 0.5)"
   ]
  },
  {
   "cell_type": "code",
   "execution_count": 36,
   "metadata": {},
   "outputs": [
    {
     "data": {
      "text/plain": [
       "array([[299,   1],\n",
       "       [ 12,  33]], dtype=int64)"
      ]
     },
     "execution_count": 36,
     "metadata": {},
     "output_type": "execute_result"
    }
   ],
   "source": [
    "confusion_matrix(y_test, tpot_pred)"
   ]
  },
  {
   "cell_type": "code",
   "execution_count": 37,
   "metadata": {},
   "outputs": [
    {
     "data": {
      "image/png": "[encoded data removed]",
      "text/plain": [
       "<Figure size 432x288 with 2 Axes>"
      ]
     },
     "metadata": {
      "needs_background": "light"
     },
     "output_type": "display_data"
    }
   ],
   "source": [
    "cm = confusion_matrix(y_test, tpot_pred, normalize = 'true')\n",
    "\n",
    "cm_display = ConfusionMatrixDisplay(cm).plot(cmap=plt.cm.Blues)"
   ]
  },
  {
   "cell_type": "markdown",
   "metadata": {},
   "source": [
    "Save best TPOT model"
   ]
  },
  {
   "cell_type": "code",
   "execution_count": 38,
   "metadata": {},
   "outputs": [],
   "source": [
    "TPOT_exported_pipeline = pipeline_optimizer.fitted_pipeline_"
   ]
  },
  {
   "cell_type": "code",
   "execution_count": 39,
   "metadata": {},
   "outputs": [],
   "source": [
    "tpot_results = TPOT_exported_pipeline.predict(X_test)"
   ]
  },
  {
   "cell_type": "markdown",
   "metadata": {},
   "source": [
    "Double check:"
   ]
  },
  {
   "cell_type": "code",
   "execution_count": 40,
   "metadata": {},
   "outputs": [
    {
     "data": {
      "text/plain": [
       "(array([0.96141479, 0.97058824]),\n",
       " array([0.99666667, 0.73333333]),\n",
       " array([0.96826425, 0.91160221]),\n",
       " array([300,  45], dtype=int64))"
      ]
     },
     "execution_count": 40,
     "metadata": {},
     "output_type": "execute_result"
    }
   ],
   "source": [
    "precision_recall_fscore_support(y_test, tpot_results, beta = 0.5)"
   ]
  },
  {
   "cell_type": "code",
   "execution_count": 41,
   "metadata": {},
   "outputs": [],
   "source": [
    "pkl_filename = '../models/restricted_tpot_best_fitted.pkl'\n",
    "pickle.dump(TPOT_exported_pipeline, open(pkl_filename, 'wb'))"
   ]
  },
  {
   "cell_type": "markdown",
   "metadata": {},
   "source": [
    "# 7 Model selection"
   ]
  },
  {
   "cell_type": "markdown",
   "metadata": {},
   "source": [
    "Let's compare the best models:"
   ]
  },
  {
   "cell_type": "markdown",
   "metadata": {},
   "source": [
    "|           | ADAboost        |         | TPOT            |         |\n",
    "|-----------|-----------------|---------|-----------------|---------|\n",
    "| accuracy  | 96.23%           |         | 96.23%           |         |\n",
    "|           | _Did not achieve_ | _Achieved_ | _Did not Achieve_ | _Achieved_ |\n",
    "| precision | 97%             | 90%     | 96%             | 97%     |\n",
    "| recall    | 98.7%             | 80%     | 99.6%             | 73%     |\n",
    "| f-score   | 97.3%             | 87.8%     | 96.8%           | 91.2%   |"
   ]
  },
  {
   "cell_type": "markdown",
   "metadata": {},
   "source": [
    "TPOT has better _precision_ when it comes to the farmers who _achieved_ the living income benchmark (i.e., from the 34 predictions from the TPOT model, 33 where correct; the ADAboost made 40 predictions, 36 correct).\n",
    "\n",
    "On the other hand, ADAboost has better _recall_ (i.e., from the 45 farmers that _achieved_ the living income benchmark, 36 were found by the ADAboost, while only 33 where found by the TPOT model)\n",
    "\n",
    "Because the ADAboost is more balanced in precision and recall, I prefer this model over the TPOT best pipeline"
   ]
  },
  {
   "cell_type": "code",
   "execution_count": 28,
   "metadata": {},
   "outputs": [],
   "source": [
    "best_model =  best_clf_strat"
   ]
  },
  {
   "cell_type": "code",
   "execution_count": 29,
   "metadata": {},
   "outputs": [],
   "source": [
    "pkl_filename = '../models/restricted_best_overall.pkl'\n",
    "pickle.dump(best_model, open(pkl_filename, 'wb'))"
   ]
  },
  {
   "cell_type": "markdown",
   "metadata": {},
   "source": [
    "# 8 Probabilities"
   ]
  },
  {
   "cell_type": "markdown",
   "metadata": {},
   "source": [
    "Besides predicting if a farmer reaches a living income, I'm interested in predicting the probability that a farmer reaches a living income. I do this by calibrating the original model `proba`"
   ]
  },
  {
   "cell_type": "markdown",
   "metadata": {},
   "source": [
    "For reference see [probability calibration](https://scikit-learn.org/stable/modules/calibration.html#calibration) and this cross-validated [post](https://stats.stackexchange.com/questions/110981/why-is-adaboost-predicting-probabilities-with-so-little-standard-deviation)"
   ]
  },
  {
   "cell_type": "markdown",
   "metadata": {},
   "source": [
    "## 8.1 AdaBoostClassifier "
   ]
  },
  {
   "cell_type": "markdown",
   "metadata": {},
   "source": [
    "This is the average chance that an observation is classified as reaching a living income (`true`)"
   ]
  },
  {
   "cell_type": "code",
   "execution_count": 30,
   "metadata": {},
   "outputs": [
    {
     "data": {
      "text/plain": [
       "0.11594202898550725"
      ]
     },
     "execution_count": 30,
     "metadata": {},
     "output_type": "execute_result"
    }
   ],
   "source": [
    "np.mean(best_clf_strat.predict(X_test))"
   ]
  },
  {
   "cell_type": "markdown",
   "metadata": {},
   "source": [
    "However, this is the average probability that an observation reaches the living income (`proba`) before calibration"
   ]
  },
  {
   "cell_type": "code",
   "execution_count": 31,
   "metadata": {},
   "outputs": [
    {
     "data": {
      "text/plain": [
       "0.47577319151783504"
      ]
     },
     "execution_count": 31,
     "metadata": {},
     "output_type": "execute_result"
    }
   ],
   "source": [
    "np.mean(best_clf_strat.predict_proba(X_test)[:,1])"
   ]
  },
  {
   "cell_type": "markdown",
   "metadata": {},
   "source": [
    "Which are clearly not in line."
   ]
  },
  {
   "cell_type": "markdown",
   "metadata": {},
   "source": [
    "To adjust this, we calibrate the classifier"
   ]
  },
  {
   "cell_type": "code",
   "execution_count": 32,
   "metadata": {},
   "outputs": [],
   "source": [
    "calibrated_best_clf_strat = CalibratedClassifierCV(best_clf_strat, cv=cv_strat, method='isotonic')"
   ]
  },
  {
   "cell_type": "code",
   "execution_count": 33,
   "metadata": {},
   "outputs": [
    {
     "data": {
      "text/html": [
       "<style>#sk-container-id-1 {color: black;background-color: white;}#sk-container-id-1 pre{padding: 0;}#sk-container-id-1 div.sk-toggleable {background-color: white;}#sk-container-id-1 label.sk-toggleable__label {cursor: pointer;display: block;width: 100%;margin-bottom: 0;padding: 0.3em;box-sizing: border-box;text-align: center;}#sk-container-id-1 label.sk-toggleable__label-arrow:before {content: \"▸\";float: left;margin-right: 0.25em;color: #696969;}#sk-container-id-1 label.sk-toggleable__label-arrow:hover:before {color: black;}#sk-container-id-1 div.sk-estimator:hover label.sk-toggleable__label-arrow:before {color: black;}#sk-container-id-1 div.sk-toggleable__content {max-height: 0;max-width: 0;overflow: hidden;text-align: left;background-color: #f0f8ff;}#sk-container-id-1 div.sk-toggleable__content pre {margin: 0.2em;color: black;border-radius: 0.25em;background-color: #f0f8ff;}#sk-container-id-1 input.sk-toggleable__control:checked~div.sk-toggleable__content {max-height: 200px;max-width: 100%;overflow: auto;}#sk-container-id-1 input.sk-toggleable__control:checked~label.sk-toggleable__label-arrow:before {content: \"▾\";}#sk-container-id-1 div.sk-estimator input.sk-toggleable__control:checked~label.sk-toggleable__label {background-color: #d4ebff;}#sk-container-id-1 div.sk-label input.sk-toggleable__control:checked~label.sk-toggleable__label {background-color: #d4ebff;}#sk-container-id-1 input.sk-hidden--visually {border: 0;clip: rect(1px 1px 1px 1px);clip: rect(1px, 1px, 1px, 1px);height: 1px;margin: -1px;overflow: hidden;padding: 0;position: absolute;width: 1px;}#sk-container-id-1 div.sk-estimator {font-family: monospace;background-color: #f0f8ff;border: 1px dotted black;border-radius: 0.25em;box-sizing: border-box;margin-bottom: 0.5em;}#sk-container-id-1 div.sk-estimator:hover {background-color: #d4ebff;}#sk-container-id-1 div.sk-parallel-item::after {content: \"\";width: 100%;border-bottom: 1px solid gray;flex-grow: 1;}#sk-container-id-1 div.sk-label:hover label.sk-toggleable__label {background-color: #d4ebff;}#sk-container-id-1 div.sk-serial::before {content: \"\";position: absolute;border-left: 1px solid gray;box-sizing: border-box;top: 0;bottom: 0;left: 50%;z-index: 0;}#sk-container-id-1 div.sk-serial {display: flex;flex-direction: column;align-items: center;background-color: white;padding-right: 0.2em;padding-left: 0.2em;position: relative;}#sk-container-id-1 div.sk-item {position: relative;z-index: 1;}#sk-container-id-1 div.sk-parallel {display: flex;align-items: stretch;justify-content: center;background-color: white;position: relative;}#sk-container-id-1 div.sk-item::before, #sk-container-id-1 div.sk-parallel-item::before {content: \"\";position: absolute;border-left: 1px solid gray;box-sizing: border-box;top: 0;bottom: 0;left: 50%;z-index: -1;}#sk-container-id-1 div.sk-parallel-item {display: flex;flex-direction: column;z-index: 1;position: relative;background-color: white;}#sk-container-id-1 div.sk-parallel-item:first-child::after {align-self: flex-end;width: 50%;}#sk-container-id-1 div.sk-parallel-item:last-child::after {align-self: flex-start;width: 50%;}#sk-container-id-1 div.sk-parallel-item:only-child::after {width: 0;}#sk-container-id-1 div.sk-dashed-wrapped {border: 1px dashed gray;margin: 0 0.4em 0.5em 0.4em;box-sizing: border-box;padding-bottom: 0.4em;background-color: white;}#sk-container-id-1 div.sk-label label {font-family: monospace;font-weight: bold;display: inline-block;line-height: 1.2em;}#sk-container-id-1 div.sk-label-container {text-align: center;}#sk-container-id-1 div.sk-container {/* jupyter's `normalize.less` sets `[hidden] { display: none; }` but bootstrap.min.css set `[hidden] { display: none !important; }` so we also need the `!important` here to be able to override the default hidden behavior on the sphinx rendered scikit-learn.org. See: https://github.com/scikit-learn/scikit-learn/issues/21755 */display: inline-block !important;position: relative;}#sk-container-id-1 div.sk-text-repr-fallback {display: none;}</style><div id=\"sk-container-id-1\" class=\"sk-top-container\"><div class=\"sk-text-repr-fallback\"><pre>CalibratedClassifierCV(base_estimator=AdaBoostClassifier(learning_rate=0.1,\n",
       "                                                         n_estimators=1500,\n",
       "                                                         random_state=42),\n",
       "                       cv=StratifiedShuffleSplit(n_splits=5, random_state=42, test_size=0.2,\n",
       "            train_size=None),\n",
       "                       method=&#x27;isotonic&#x27;)</pre><b>In a Jupyter environment, please rerun this cell to show the HTML representation or trust the notebook. <br />On GitHub, the HTML representation is unable to render, please try loading this page with nbviewer.org.</b></div><div class=\"sk-container\" hidden><div class=\"sk-item sk-dashed-wrapped\"><div class=\"sk-label-container\"><div class=\"sk-label sk-toggleable\"><input class=\"sk-toggleable__control sk-hidden--visually\" id=\"sk-estimator-id-1\" type=\"checkbox\" ><label for=\"sk-estimator-id-1\" class=\"sk-toggleable__label sk-toggleable__label-arrow\">CalibratedClassifierCV</label><div class=\"sk-toggleable__content\"><pre>CalibratedClassifierCV(base_estimator=AdaBoostClassifier(learning_rate=0.1,\n",
       "                                                         n_estimators=1500,\n",
       "                                                         random_state=42),\n",
       "                       cv=StratifiedShuffleSplit(n_splits=5, random_state=42, test_size=0.2,\n",
       "            train_size=None),\n",
       "                       method=&#x27;isotonic&#x27;)</pre></div></div></div><div class=\"sk-parallel\"><div class=\"sk-parallel-item\"><div class=\"sk-item\"><div class=\"sk-label-container\"><div class=\"sk-label sk-toggleable\"><input class=\"sk-toggleable__control sk-hidden--visually\" id=\"sk-estimator-id-2\" type=\"checkbox\" ><label for=\"sk-estimator-id-2\" class=\"sk-toggleable__label sk-toggleable__label-arrow\">base_estimator: AdaBoostClassifier</label><div class=\"sk-toggleable__content\"><pre>AdaBoostClassifier(learning_rate=0.1, n_estimators=1500, random_state=42)</pre></div></div></div><div class=\"sk-serial\"><div class=\"sk-item\"><div class=\"sk-estimator sk-toggleable\"><input class=\"sk-toggleable__control sk-hidden--visually\" id=\"sk-estimator-id-3\" type=\"checkbox\" ><label for=\"sk-estimator-id-3\" class=\"sk-toggleable__label sk-toggleable__label-arrow\">AdaBoostClassifier</label><div class=\"sk-toggleable__content\"><pre>AdaBoostClassifier(learning_rate=0.1, n_estimators=1500, random_state=42)</pre></div></div></div></div></div></div></div></div></div></div>"
      ],
      "text/plain": [
       "CalibratedClassifierCV(base_estimator=AdaBoostClassifier(learning_rate=0.1,\n",
       "                                                         n_estimators=1500,\n",
       "                                                         random_state=42),\n",
       "                       cv=StratifiedShuffleSplit(n_splits=5, random_state=42, test_size=0.2,\n",
       "            train_size=None),\n",
       "                       method='isotonic')"
      ]
     },
     "execution_count": 33,
     "metadata": {},
     "output_type": "execute_result"
    }
   ],
   "source": [
    "calibrated_best_clf_strat.fit(X_train, y_train)"
   ]
  },
  {
   "cell_type": "markdown",
   "metadata": {},
   "source": [
    "Let's compare the predictions:"
   ]
  },
  {
   "cell_type": "code",
   "execution_count": 34,
   "metadata": {},
   "outputs": [],
   "source": [
    "calibrated_best_predictions_strat = calibrated_best_clf_strat.predict(X_test)"
   ]
  },
  {
   "cell_type": "code",
   "execution_count": 35,
   "metadata": {},
   "outputs": [
    {
     "data": {
      "text/plain": [
       "array([[295,   5],\n",
       "       [  9,  36]], dtype=int64)"
      ]
     },
     "execution_count": 35,
     "metadata": {},
     "output_type": "execute_result"
    }
   ],
   "source": [
    "confusion_matrix(y_test, calibrated_best_predictions_strat)"
   ]
  },
  {
   "cell_type": "code",
   "execution_count": 36,
   "metadata": {},
   "outputs": [
    {
     "data": {
      "text/plain": [
       "array([[296,   4],\n",
       "       [  9,  36]], dtype=int64)"
      ]
     },
     "execution_count": 36,
     "metadata": {},
     "output_type": "execute_result"
    }
   ],
   "source": [
    "confusion_matrix(y_test, best_predictions_strat)"
   ]
  },
  {
   "cell_type": "markdown",
   "metadata": {},
   "source": [
    "Predictions are virtually identical. Let's extract the probabilities now:"
   ]
  },
  {
   "cell_type": "code",
   "execution_count": 37,
   "metadata": {},
   "outputs": [],
   "source": [
    "calibrated_best_probabilities_strat = calibrated_best_clf_strat.predict_proba(X_test)[:,1]"
   ]
  },
  {
   "cell_type": "markdown",
   "metadata": {},
   "source": [
    "Let's now see the average calibrated chance that an observation is classified as reaching a living income (`true`)"
   ]
  },
  {
   "cell_type": "code",
   "execution_count": 38,
   "metadata": {},
   "outputs": [
    {
     "data": {
      "text/plain": [
       "0.1241827393848341"
      ]
     },
     "execution_count": 38,
     "metadata": {},
     "output_type": "execute_result"
    }
   ],
   "source": [
    "np.mean(calibrated_best_probabilities_strat)"
   ]
  },
  {
   "cell_type": "markdown",
   "metadata": {},
   "source": [
    "Which now is in line with:"
   ]
  },
  {
   "cell_type": "code",
   "execution_count": 39,
   "metadata": {},
   "outputs": [
    {
     "data": {
      "text/plain": [
       "0.11884057971014493"
      ]
     },
     "execution_count": 39,
     "metadata": {},
     "output_type": "execute_result"
    }
   ],
   "source": [
    "np.mean(calibrated_best_predictions_strat)"
   ]
  },
  {
   "cell_type": "markdown",
   "metadata": {},
   "source": [
    "## 8.2 TPOT"
   ]
  },
  {
   "cell_type": "markdown",
   "metadata": {},
   "source": [
    "For completness, we do similar to the TPOT best model"
   ]
  },
  {
   "cell_type": "code",
   "execution_count": 54,
   "metadata": {},
   "outputs": [],
   "source": [
    "calibrated_tpot = CalibratedClassifierCV(TPOT_exported_pipeline, cv=cv_strat, method='isotonic')"
   ]
  },
  {
   "cell_type": "code",
   "execution_count": 55,
   "metadata": {},
   "outputs": [
    {
     "data": {
      "text/plain": [
       "CalibratedClassifierCV(base_estimator=Pipeline(steps=[('stackingestimator',\n",
       "                                                       StackingEstimator(estimator=BernoulliNB(alpha=100.0,\n",
       "                                                                                               fit_prior=False))),\n",
       "                                                      ('rfe',\n",
       "                                                       RFE(estimator=ExtraTreesClassifier(criterion='entropy',\n",
       "                                                                                          max_features=0.8,\n",
       "                                                                                          random_state=32),\n",
       "                                                           step=0.9000000000000001)),\n",
       "                                                      ('normalizer',\n",
       "                                                       Normalizer(norm='l1')),\n",
       "                                                      ('gradientboostingclassifier',\n",
       "                                                       GradientBoostingClassifier(learning_rate=0.01,\n",
       "                                                                                  max_depth=2,\n",
       "                                                                                  max_features=0.9500000000000001,\n",
       "                                                                                  min_samples_leaf=7,\n",
       "                                                                                  min_samples_split=19,\n",
       "                                                                                  random_state=32,\n",
       "                                                                                  subsample=0.3))]),\n",
       "                       cv=StratifiedShuffleSplit(n_splits=5, random_state=42, test_size=0.2,\n",
       "            train_size=None),\n",
       "                       method='isotonic')"
      ]
     },
     "execution_count": 55,
     "metadata": {},
     "output_type": "execute_result"
    }
   ],
   "source": [
    "calibrated_tpot.fit(X_train, y_train)"
   ]
  },
  {
   "cell_type": "code",
   "execution_count": 56,
   "metadata": {},
   "outputs": [],
   "source": [
    "calibrated_tpot_predictions = calibrated_tpot.predict(X_test)"
   ]
  },
  {
   "cell_type": "code",
   "execution_count": 57,
   "metadata": {},
   "outputs": [
    {
     "data": {
      "text/plain": [
       "array([[298,   2],\n",
       "       [ 10,  35]], dtype=int64)"
      ]
     },
     "execution_count": 57,
     "metadata": {},
     "output_type": "execute_result"
    }
   ],
   "source": [
    "confusion_matrix(y_test, calibrated_tpot_predictions)"
   ]
  },
  {
   "cell_type": "code",
   "execution_count": 58,
   "metadata": {},
   "outputs": [
    {
     "data": {
      "text/plain": [
       "array([[299,   1],\n",
       "       [ 12,  33]], dtype=int64)"
      ]
     },
     "execution_count": 58,
     "metadata": {},
     "output_type": "execute_result"
    }
   ],
   "source": [
    "confusion_matrix(y_test, tpot_pred)"
   ]
  },
  {
   "cell_type": "code",
   "execution_count": 59,
   "metadata": {},
   "outputs": [],
   "source": [
    "calibrated_tpot_probabilities = calibrated_tpot.predict_proba(X_test)[:,1]"
   ]
  },
  {
   "cell_type": "code",
   "execution_count": 60,
   "metadata": {},
   "outputs": [
    {
     "data": {
      "text/plain": [
       "0.12618606828750847"
      ]
     },
     "execution_count": 60,
     "metadata": {},
     "output_type": "execute_result"
    }
   ],
   "source": [
    "np.mean(calibrated_tpot_probabilities)"
   ]
  },
  {
   "cell_type": "code",
   "execution_count": 61,
   "metadata": {},
   "outputs": [
    {
     "data": {
      "text/plain": [
       "0.1072463768115942"
      ]
     },
     "execution_count": 61,
     "metadata": {},
     "output_type": "execute_result"
    }
   ],
   "source": [
    "np.mean(calibrated_tpot_predictions)"
   ]
  },
  {
   "cell_type": "markdown",
   "metadata": {},
   "source": [
    "## 8.3 Export best calibrated model"
   ]
  },
  {
   "cell_type": "code",
   "execution_count": 40,
   "metadata": {},
   "outputs": [],
   "source": [
    "best_calibrated_model =  calibrated_best_clf_strat"
   ]
  },
  {
   "cell_type": "code",
   "execution_count": 41,
   "metadata": {},
   "outputs": [],
   "source": [
    "pkl_filename = '../models/LI_simplified_model.pkl'\n",
    "pickle.dump(best_calibrated_model, open(pkl_filename, 'wb'))"
   ]
  },
  {
   "cell_type": "markdown",
   "metadata": {},
   "source": [
    "# 9 Web app & write-ups"
   ]
  },
  {
   "cell_type": "markdown",
   "metadata": {},
   "source": [
    "## 9.0 Previous non-technical write-up:\n",
    "\n",
    "See at [medium](https://medium.com/@tyszler.jobs/are-cocoa-farmers-reaching-a-living-income-f7724af574c4?sk=344c18d46a7fd402d3a137061c6ba89a)\n",
    "\n",
    "\n",
    "## 9.1 Non-technical write-up\n",
    "\n",
    "See See at [medium](https://mtyszler.medium.com/are-farmers-reaching-a-living-income-c15523a564b2)\n",
    "\n",
    "## 9.2 Technical write-up\n",
    "\n",
    "See at [medium](https://mtyszler.medium.com/are-farmers-reaching-a-living-income-the-machine-learning-technical-companion-c8e4574868da)\n",
    "\n",
    "## 9.3 Web app\n",
    "\n",
    "See it [live](https://disaster-response-livedemo.herokuapp.com/)\n"
   ]
  },
  {
   "cell_type": "code",
   "execution_count": null,
   "metadata": {},
   "outputs": [],
   "source": []
  }
 ],
 "metadata": {
  "kernelspec": {
   "display_name": "Python 3 (ipykernel)",
   "language": "python",
   "name": "python3"
  },
  "language_info": {
   "codemirror_mode": {
    "name": "ipython",
    "version": 3
   },
   "file_extension": ".py",
   "mimetype": "text/x-python",
   "name": "python",
   "nbconvert_exporter": "python",
   "pygments_lexer": "ipython3",
   "version": "3.10.6"
  }
 },
 "nbformat": 4,
 "nbformat_minor": 4
}
